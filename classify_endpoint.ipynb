{
 "cells": [
  {
   "cell_type": "code",
   "execution_count": 1,
   "id": "fb271e57-a7d6-4db6-a113-52468c1551c4",
   "metadata": {},
   "outputs": [],
   "source": [
    "import cohere\n",
    "import os\n",
    "\n",
    "api_key = os.getenv('COHERE_API_KEY')\n",
    "co = cohere.Client(api_key)"
   ]
  },
  {
   "cell_type": "code",
   "execution_count": 2,
   "id": "2f91de5b-ff53-414f-9261-88e1b550e425",
   "metadata": {},
   "outputs": [],
   "source": [
    "from cohere.responses.classify import Example\n",
    "\n",
    "examples = [Example(\"I'm so proud of you\", \"positive\"), \n",
    "            Example(\"What a great time to be alive\", \"positive\"), \n",
    "            Example(\"That's awesome work\", \"positive\"), \n",
    "            Example(\"The service was amazing\", \"positive\"), \n",
    "            Example(\"I love my family\", \"positive\"), \n",
    "            Example(\"They don't care about me\", \"negative\"), \n",
    "            Example(\"I hate this place\", \"negative\"), \n",
    "            Example(\"The most ridiculous thing I've ever heard\", \"negative\"), \n",
    "            Example(\"I am really frustrated\", \"negative\"), \n",
    "            Example(\"This is so unfair\", \"negative\"),\n",
    "            Example(\"This made me think\", \"neutral\"), \n",
    "            Example(\"The good old days\", \"neutral\"), \n",
    "            Example(\"What's the difference\", \"neutral\"), \n",
    "            Example(\"You can't ignore this\", \"neutral\"), \n",
    "            Example(\"That's how I see it\", \"neutral\")            \n",
    "            ]"
   ]
  },
  {
   "cell_type": "code",
   "execution_count": 3,
   "id": "35085d68-6b45-47ee-9ef5-49b70eee2219",
   "metadata": {},
   "outputs": [],
   "source": [
    "inputs=[\"Hello, world! What a beautiful day\",\n",
    "        \"It was a great time with great people\",\n",
    "        \"Great place to work\",\n",
    "        \"That was a wonderful evening\",\n",
    "        \"Maybe this is why\",\n",
    "        \"Let's start again\",\n",
    "        \"That's how I see it\",\n",
    "        \"These are all facts\",\n",
    "        \"This is the worst thing\",\n",
    "        \"I cannot stand this any longer\",\n",
    "        \"This is really annoying\",\n",
    "        \"I am just plain fed up\"\n",
    "        ]"
   ]
  },
  {
   "cell_type": "code",
   "execution_count": 4,
   "id": "b71b9043-7a3c-4022-9154-5152308bf69c",
   "metadata": {},
   "outputs": [],
   "source": [
    "# A function to classify a list of inputs given the examples\n",
    "def classify_text(inputs, examples):\n",
    "    \"\"\"\n",
    "    Classify a list of input text\n",
    "    Arguments:\n",
    "        inputs(list[str]): a list of input texts to be classified\n",
    "        examples(list[Example]): a list of example texts and class labels\n",
    "    Returns:\n",
    "        classifications(list): each result contains the text, labels, and confidence values\n",
    "    \"\"\"\n",
    "\n",
    "    response = co.classify(\n",
    "        model='embed-english-v3.0',\n",
    "        inputs=inputs,\n",
    "        examples=examples)\n",
    "\n",
    "    classifications = response.classifications\n",
    "    return classifications"
   ]
  },
  {
   "cell_type": "code",
   "execution_count": 6,
   "id": "e7a75ae4-f71e-4fff-aa52-a24ce273a982",
   "metadata": {},
   "outputs": [
    {
     "name": "stdout",
     "output_type": "stream",
     "text": [
      "Input: Hello, world! What a beautiful day\n",
      "Prediction: ['positive']\n",
      "Confidence: [0.4011332]\n",
      "----------\n",
      "Input: It was a great time with great people\n",
      "Prediction: ['positive']\n",
      "Confidence: [0.4934057]\n",
      "----------\n",
      "Input: Great place to work\n",
      "Prediction: ['positive']\n",
      "Confidence: [0.5052671]\n",
      "----------\n",
      "Input: That was a wonderful evening\n",
      "Prediction: ['positive']\n",
      "Confidence: [0.4839499]\n",
      "----------\n",
      "Input: Maybe this is why\n",
      "Prediction: ['neutral']\n",
      "Confidence: [0.45474592]\n",
      "----------\n",
      "Input: Let's start again\n",
      "Prediction: ['neutral']\n",
      "Confidence: [0.41791356]\n",
      "----------\n",
      "Input: That's how I see it\n",
      "Prediction: ['neutral']\n",
      "Confidence: [0.5272245]\n",
      "----------\n",
      "Input: These are all facts\n",
      "Prediction: ['neutral']\n",
      "Confidence: [0.41333297]\n",
      "----------\n",
      "Input: This is the worst thing\n",
      "Prediction: ['negative']\n",
      "Confidence: [0.51444405]\n",
      "----------\n",
      "Input: I cannot stand this any longer\n",
      "Prediction: ['negative']\n",
      "Confidence: [0.51702404]\n",
      "----------\n",
      "Input: This is really annoying\n",
      "Prediction: ['negative']\n",
      "Confidence: [0.5595689]\n",
      "----------\n",
      "Input: I am just plain fed up\n",
      "Prediction: ['negative']\n",
      "Confidence: [0.56500316]\n",
      "----------\n"
     ]
    }
   ],
   "source": [
    "# Classify the inputs\n",
    "predictions = classify_text(inputs, examples)\n",
    "\n",
    "# Display the classification outcomes\n",
    "classes = [\"positive\", \"negative\", \"neutral\"]\n",
    "for inp, pred in zip(inputs, predictions):\n",
    "    class_pred = pred.predictions\n",
    "    class_conf = pred.confidences\n",
    "\n",
    "    print(f\"Input: {inp}\")\n",
    "    print(f\"Prediction: {class_pred}\")\n",
    "    print(f\"Confidence: {class_conf}\")\n",
    "    print(\"-\"*10)"
   ]
  },
  {
   "cell_type": "code",
   "execution_count": null,
   "id": "f13ab446-3828-45ac-99ed-4577b2479159",
   "metadata": {},
   "outputs": [],
   "source": []
  }
 ],
 "metadata": {
  "kernelspec": {
   "display_name": "Python (venv)",
   "language": "python",
   "name": "venv"
  },
  "language_info": {
   "codemirror_mode": {
    "name": "ipython",
    "version": 3
   },
   "file_extension": ".py",
   "mimetype": "text/x-python",
   "name": "python",
   "nbconvert_exporter": "python",
   "pygments_lexer": "ipython3",
   "version": "3.10.12"
  }
 },
 "nbformat": 4,
 "nbformat_minor": 5
}
