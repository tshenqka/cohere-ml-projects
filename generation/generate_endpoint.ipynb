{
 "cells": [
  {
   "cell_type": "code",
   "execution_count": 1,
   "id": "9b44233f-31da-4bc0-83dc-8cb5b4fb08b0",
   "metadata": {},
   "outputs": [],
   "source": [
    "import cohere\n",
    "import os\n",
    "\n",
    "api_key = os.getenv('COHERE_API_KEY')\n",
    "co = cohere.Client(api_key)"
   ]
  },
  {
   "cell_type": "code",
   "execution_count": 4,
   "id": "2d25b53d-71d9-4e42-aa3c-748304601963",
   "metadata": {},
   "outputs": [
    {
     "name": "stdout",
     "output_type": "stream",
     "text": [
      "[cohere.Generation {\n",
      "\tid: cf73a257-755b-4f7e-b8a1-7d28834fde45\n",
      "\tprompt: Generate a concise product description for: french brie cheese.\n",
      "\ttext:  Brie is a soft cow's-milk cheese named after the French region where it originated. It's known for its rich, buttery flavor and soft, gooey texture. Brie is considered a great introduction to the world of cheese for those who are new to the genre, as its mild flavor is less intense than other cheeses. The rind is typically eaten, and the flavor varies from earthy to nutty to fruity. The bloomy white rind is developed by spraying the cheese with Penicillium candidum. This bacterium is also what gives Brie its signature gooey texture. Enjoy it with fruits, crackers, or by itself! \n",
      "\n",
      "Would you like to know more about this product? \n",
      "\n",
      "Let me know if you have any other questions about cheese! \n",
      "\tlikelihood: None\n",
      "\tfinish_reason: COMPLETE\n",
      "\ttoken_likelihoods: None\n",
      "}]\n"
     ]
    }
   ],
   "source": [
    "response = co.generate(\n",
    "    model='command',\n",
    "    prompt='Generate a concise product description for: french brie cheese.',\n",
    "    max_tokens=500)\n",
    "\n",
    "print(response)"
   ]
  },
  {
   "cell_type": "code",
   "execution_count": 6,
   "id": "e7b88cef-3286-45d6-bfb3-2468bb240c6b",
   "metadata": {},
   "outputs": [
    {
     "name": "stdout",
     "output_type": "stream",
     "text": [
      " Brie is a soft cow's-milk cheese named after the French region where it originated. It's known for its rich, buttery flavor and soft, gooey texture. Brie is considered a great introduction to the world of cheese for those who are new to the genre, as its mild flavor is less intense than other cheeses. The rind is typically eaten, and the flavor varies from earthy to nutty to fruity. The bloomy white rind is developed by spraying the cheese with Penicillium candidum. This bacterium is also what gives Brie its signature gooey texture. Enjoy it with fruits, crackers, or by itself! \n",
      "\n",
      "Would you like to know more about this product? \n",
      "\n",
      "Let me know if you have any other questions about cheese! \n"
     ]
    }
   ],
   "source": [
    "print(response.generations[0].text)"
   ]
  },
  {
   "cell_type": "code",
   "execution_count": 8,
   "id": "4258d6bd-aff6-4437-ac51-9a1cc9557df1",
   "metadata": {},
   "outputs": [
    {
     "name": "stdout",
     "output_type": "stream",
     "text": [
      "[cohere.Generation {\n",
      "\tid: 0c428a12-964f-460d-aedc-6645767053d1\n",
      "\tprompt: Generate a concise product description for: french brie cheese.\n",
      "\ttext:  Brie is a soft cow's-milk cheese named after the French region where it originated. It's known for its rich, creamy flavor and soft, runny texture. When young, it tastes mild and slightly tangy, and as it ages it develops a more intense, earthy flavor. Brie is a great choice for cheese boards or desserts, and it can also be used in sandwiches or on cheeseburgers.\n",
      "\n",
      "Would you like to know how to best store Brie cheese? \n",
      "\tlikelihood: -0.23930086\n",
      "\tfinish_reason: COMPLETE\n",
      "\ttoken_likelihoods: [TokenLikelihood(token=' B', likelihood=-0.085701294), TokenLikelihood(token='rie', likelihood=-0.0003641866), TokenLikelihood(token=' is', likelihood=-3.655073e-05), TokenLikelihood(token=' a', likelihood=-3.1281633e-07), TokenLikelihood(token=' soft', likelihood=-0.0014968876), TokenLikelihood(token=' cow', likelihood=-0.15823759), TokenLikelihood(token=\"'s\", likelihood=-1.147242e-06), TokenLikelihood(token='-', likelihood=-0.5408625), TokenLikelihood(token='milk', likelihood=-3.888926e-06), TokenLikelihood(token=' cheese', likelihood=-1.5928495e-05), TokenLikelihood(token=' named', likelihood=-0.42121753), TokenLikelihood(token=' after', likelihood=-3.1281633e-07), TokenLikelihood(token=' the', likelihood=-6.742448e-05), TokenLikelihood(token=' French', likelihood=-0.02475859), TokenLikelihood(token=' region', likelihood=-0.18787362), TokenLikelihood(token=' where', likelihood=-0.0014283328), TokenLikelihood(token=' it', likelihood=0), TokenLikelihood(token=' originated', likelihood=-0.033517987), TokenLikelihood(token='.', likelihood=-0.009393953), TokenLikelihood(token=' It', likelihood=-8.418666e-06), TokenLikelihood(token=\"'s\", likelihood=-0.018315813), TokenLikelihood(token=' known', likelihood=-0.025983604), TokenLikelihood(token=' for', likelihood=-2.1008714e-06), TokenLikelihood(token=' its', likelihood=-2.5345586e-05), TokenLikelihood(token=' rich', likelihood=-0.003561704), TokenLikelihood(token=',', likelihood=-0.0028299615), TokenLikelihood(token=' creamy', likelihood=-0.47703046), TokenLikelihood(token=' flavor', likelihood=-0.0012282043), TokenLikelihood(token=' and', likelihood=0), TokenLikelihood(token=' soft', likelihood=-0.1860176), TokenLikelihood(token=',', likelihood=-8.959636e-05), TokenLikelihood(token=' runny', likelihood=-0.5306244), TokenLikelihood(token=' texture', likelihood=-0.057885814), TokenLikelihood(token='.', likelihood=-1.4021238e-05), TokenLikelihood(token=' When', likelihood=-0.7596663), TokenLikelihood(token=' young', likelihood=-1.8782219), TokenLikelihood(token=',', likelihood=0), TokenLikelihood(token=' it', likelihood=-0.07669453), TokenLikelihood(token=' tastes', likelihood=-0.11628184), TokenLikelihood(token=' mild', likelihood=-0.046313807), TokenLikelihood(token=' and', likelihood=-6.2729996e-06), TokenLikelihood(token=' slightly', likelihood=-0.6928176), TokenLikelihood(token=' tangy', likelihood=-0.21479875), TokenLikelihood(token=',', likelihood=-3.1281633e-07), TokenLikelihood(token=' and', likelihood=-1.378283e-05), TokenLikelihood(token=' as', likelihood=-0.51892024), TokenLikelihood(token=' it', likelihood=0), TokenLikelihood(token=' ages', likelihood=-0.00017290872), TokenLikelihood(token=' it', likelihood=-0.09283218), TokenLikelihood(token=' develops', likelihood=-0.12350926), TokenLikelihood(token=' a', likelihood=-0.017360743), TokenLikelihood(token=' more', likelihood=-1.7954959e-05), TokenLikelihood(token=' intense', likelihood=-1.7876621), TokenLikelihood(token=',', likelihood=-1.3439486), TokenLikelihood(token=' earthy', likelihood=-0.040428642), TokenLikelihood(token=' flavor', likelihood=-6.325235e-05), TokenLikelihood(token='.', likelihood=-7.660316e-05), TokenLikelihood(token=' B', likelihood=-0.017961685), TokenLikelihood(token='rie', likelihood=-0.0009783863), TokenLikelihood(token=' is', likelihood=-0.14413649), TokenLikelihood(token=' a', likelihood=-0.00011081461), TokenLikelihood(token=' great', likelihood=-1.0474669), TokenLikelihood(token=' choice', likelihood=-1.0972605), TokenLikelihood(token=' for', likelihood=-1.0683535e-05), TokenLikelihood(token=' cheese', likelihood=-0.48566112), TokenLikelihood(token=' boards', likelihood=-0.23489225), TokenLikelihood(token=' or', likelihood=-0.17037797), TokenLikelihood(token=' desserts', likelihood=-2.5130413), TokenLikelihood(token=',', likelihood=-3.6431527e-05), TokenLikelihood(token=' and', likelihood=-0.0013644046), TokenLikelihood(token=' it', likelihood=-0.000927899), TokenLikelihood(token=' can', likelihood=-0.009673096), TokenLikelihood(token=' also', likelihood=-0.04112116), TokenLikelihood(token=' be', likelihood=-5.5122365e-07), TokenLikelihood(token=' used', likelihood=-3.464347e-05), TokenLikelihood(token=' in', likelihood=0), TokenLikelihood(token=' sandwiches', likelihood=-0.60715896), TokenLikelihood(token=' or', likelihood=-7.703444e-06), TokenLikelihood(token=' on', likelihood=-1.1894792), TokenLikelihood(token=' chees', likelihood=-1.0808226), TokenLikelihood(token='eb', likelihood=-0.004293977), TokenLikelihood(token='urg', likelihood=-0.00039444966), TokenLikelihood(token='ers', likelihood=-9.0883464e-07), TokenLikelihood(token='.', likelihood=-1.9361265e-07), TokenLikelihood(token='\\n', likelihood=-1.8867092), TokenLikelihood(token='\\n', likelihood=-0.008125981), TokenLikelihood(token='Would', likelihood=-0.00033725024), TokenLikelihood(token=' you', likelihood=-3.1281633e-07), TokenLikelihood(token=' like', likelihood=-0.00633803), TokenLikelihood(token=' to', likelihood=-0.10468508), TokenLikelihood(token=' know', likelihood=-0.0065645026), TokenLikelihood(token=' how', likelihood=-0.0008140356), TokenLikelihood(token=' to', likelihood=-0.0014771292), TokenLikelihood(token=' best', likelihood=-0.03632859), TokenLikelihood(token=' store', likelihood=-0.09204923), TokenLikelihood(token=' B', likelihood=-0.52734685), TokenLikelihood(token='rie', likelihood=-1.247159e-05), TokenLikelihood(token=' cheese', likelihood=-4.3822154e-05), TokenLikelihood(token='?', likelihood=-0.43424457), TokenLikelihood(token=' ', likelihood=-1.6993959)]\n",
      "}]\n"
     ]
    }
   ],
   "source": [
    "response = co.generate(\n",
    "    model='command',\n",
    "    prompt='Generate a concise product description for: french brie cheese.',\n",
    "    max_tokens=500,\n",
    "    return_likelihoods='GENERATION')\n",
    "\n",
    "print(response)"
   ]
  },
  {
   "cell_type": "code",
   "execution_count": 10,
   "id": "965df445-7250-43ca-bf11-4bd946e7f1d7",
   "metadata": {},
   "outputs": [
    {
     "name": "stdout",
     "output_type": "stream",
     "text": [
      "Temperature range: [0.0, 1.0, 2.0, 3.0, 4.0]\n",
      "----------\n",
      "Temperature: 0.0\n",
      "----------\n",
      "Generation #1\n",
      "Text:  Brie is a soft cow's-milk cheese named after the French region where it originated. It's known for its rich, creamy flavor and soft, runny texture. Brie is considered a great introduction to cheese for those who are new to the world of dairy, as its mild flavor is less intense than other cheeses. The rind is typically eaten, and the flavor varies from earthy to nutty to fruity. The creamy center is slightly tangy but not sour. The texture can range from soft to\n",
      "\n",
      "Likelihood: -0.18773691\n",
      "\n",
      "Generation #2\n",
      "Text:  Brie is a soft cow's-milk cheese named after the French region where it originated. It's known for its rich, creamy flavor and soft, runny texture. Brie is considered a great introduction to cheese for those who are new to the world of dairy, as its mild flavor is less intense than other cheeses. The rind is typically eaten, and the flavor varies from earthy to nutty to fruity. The creamy center is slightly tangy but not sour. The texture can range from soft to\n",
      "\n",
      "Likelihood: -0.18773691\n",
      "\n",
      "Generation #3\n",
      "Text:  Brie is a soft cow's-milk cheese named after the French region where it originated. It's known for its rich, creamy flavor and soft, runny texture. Brie is considered a great introduction to cheese for those who are new to the world of dairy, as its mild flavor is less intense than other cheeses. The rind is typically eaten, and the flavor varies from earthy to nutty to fruity. The creamy center is slightly tangy but not sour. The texture can range from soft to\n",
      "\n",
      "Likelihood: -0.18773691\n",
      "\n",
      "----------\n",
      "Temperature: 1.0\n",
      "----------\n",
      "Generation #1\n",
      "Text:  Brie is a soft cow's-milk cheese named after the French region where it originated. It's known for its rich, creamy flavor and soft, runny texture. Brie is considered a great introduction to the world of cheeses with a bloomy rind, which is created by spraying the cheese with Penicillium candidum mold. This thin layer helps develop the cheese's flavor and texture as it ages, and provides a slight earthy tang that pairs well with the creamy center. When ripe\n",
      "\n",
      "Likelihood: -0.24150379\n",
      "\n",
      "Generation #2\n",
      "Text:  Brie is a soft cow's-milk cheese known for its rich, buttery flavor and runny texture. This beloved French cheese has a history dating back to the 8th century and has since become one of the most popular cheeses in the world. The process of creating Brie involves adding bacteria and rennet to milk, which begins the fermentation process, separating into curds and whey. The cheese is then molded, brined, and aged for a minimum of one month, during which time it develops\n",
      "\n",
      "Likelihood: -0.21883254\n",
      "\n",
      "Generation #3\n",
      "Text:  Brie is a soft cow's-milk cheese named after the French region where it originated. It's known for its rich, creamy flavor and soft, gooey texture. Brie is considered a great introduction to the world of cheese for those who are new to the experience, as its mild flavor is less intense than other cheeses. The rind is typically eaten, and the flavor is mild and earthy, with a hint of soil. The pale yellow interior of the cheese is supple and runny near\n",
      "\n",
      "Likelihood: -0.22600758\n",
      "\n",
      "----------\n",
      "Temperature: 2.0\n",
      "----------\n",
      "Generation #1\n",
      "Text:  Brie is a soft cow's-milk cheese known for its rich, creamy flavor and gooey texture. Our French Brie is a classic, creamy cheese with a mild, slightly earthy flavor and a velvety rind. The cheese, which originates from the Brie region in France, is a great addition to any cheese board or can be enjoyed on its own. Serve at room temperature for the best flavor.\n",
      "\n",
      "Would you like to know how to best pair this cheese with other foods or\n",
      "\n",
      "Likelihood: -0.30485705\n",
      "\n",
      "Generation #2\n",
      "Text:  Brie is a soft cow's-milk cheese known for its rich, buttery flavor and runny texture. Our French Brie cheese boasts a delicate flavor and a soft, creamy body that becomes smoother with age. This indulgence becomes a transcendent experience when enjoyed with champagne or rosé.\n",
      "\n",
      "Serve this cheese as a luxurious addition to your next cheese board or sandwich, or bake it and enjoy it with fruit for a decadent dessert.\n",
      "\n",
      "This product is pasteurized and made with milk from cows\n",
      "\n",
      "Likelihood: -0.3311721\n",
      "\n",
      "Generation #3\n",
      "Text:  Brie is a soft cow's milk cheese named after the French region where it originated. It's known for its rich, buttery flavor and soft, gooey texture. The rind is typically eaten, and ranges from pale yellow to white in color. The bloomy rind is created from a bacteria culture (penicillium candidum) sprayed or brushed onto the cheese surface. Flavors can range from mild to fairly strong, depending on the style and duration of the aging. When young\n",
      "\n",
      "Likelihood: -0.33176598\n",
      "\n",
      "----------\n",
      "Temperature: 3.0\n",
      "----------\n",
      "Generation #1\n",
      "Text:  Brie is a soft cow's-milk cheese known for its rich, buttery flavor and runny texture. This decadent cheese has a rind that's meant to be eaten, and the interior paste is creamy and smooth. When ripe, the cheese develops flavors of earth, grass, nuts, and mushrooms. Our French Brie is sourced from cheeseshouses that follow traditional methods, ensuring an exceptional flavor and texture. This is a cheese that exemplifies the greatness of French cheese and is a must-have on\n",
      "\n",
      "Likelihood: -0.4089138\n",
      "\n",
      "Generation #2\n",
      "Text:  Brie is a soft cow's milk cheese named after the French region where it originated. It's known for its rich, creamy flavor and soft, runny texture. When ripe, its exterior thin rind is buttery and slightly earthy in flavor. The milder varieties have a faintly tangy flavor, while pungent types have more of a bite. Compared to other cheeses, it has a relatively high fat content, making it a luxurious addition to any cheese board or recipe.\n",
      "\n",
      "Would you like me\n",
      "\n",
      "Likelihood: -0.38129723\n",
      "\n",
      "Generation #3\n",
      "Text:  Brie is a soft cow's-milk cheese named after the French region where it originated. It's known for its rich, creamy flavor and soft, runny texture. Brie is considered a great introduction to the world of cheeses for those who are new to the concept, as its mild flavor is less intense than other cheeses. The cheese is pale yellow with a thin crust that develops mold as it ages. When sliced open, the interior should ooze or have a slight bulge. It\n",
      "\n",
      "Likelihood: -0.33824277\n",
      "\n",
      "----------\n",
      "Temperature: 4.0\n",
      "----------\n",
      "Generation #1\n",
      "Text:  Brie is a soft cow's-milk cheese known for its rich, buttery flavor and runny texture. This iconic French cheese has a history that dates back to the 8th century and has since become a beloved staple in kitchens around the world. With a pale yellow interior and a white rind, Brie is typically crafted in a wheel-shaped format with a bloomy rind that develops during the aging process. When eaten young, the flavor of Brie is mild and slightly tangy, and\n",
      "\n",
      "Likelihood: -0.28305972\n",
      "\n",
      "Generation #2\n",
      "Text:  Brie is a soft cow's-milk cheese known for its rich, buttery flavor and gooey texture. Our French Brie is sustainably made with milk from cows roaming free in Normandy's lush, green pastures, resulting in a cheese with subtle earthiness and a hint of grassiness. The creamy center is kissed with a white bloomy rind that's edible and decadently complements the melt-in-your-mouth interior. This heavenly cheese is perfect for your next cheese board or toastier\n",
      "\n",
      "Likelihood: -0.5489008\n",
      "\n",
      "Generation #3\n",
      "Text:  Brie is a soft cow's-milk cheese named after the French region where it originated. It's known for its rich, creamy flavor and soft, buttery texture. When ripe, its flavor can be quite strong, and its texture runny. \n",
      "\n",
      "Our French Brie is locally sourced and made with pasteurized milk, ensuring a rich and creamy flavor profile with a smooth, buttery texture. The rind is bloomy and ivory in color, while the interior is light and creamy. It has\n",
      "\n",
      "Likelihood: -0.3724079\n",
      "\n"
     ]
    }
   ],
   "source": [
    "# Create a function to call the endpoint\n",
    "def generate_text(prompt,temperature,num_gens):\n",
    "  response = co.generate(\n",
    "    model='command',\n",
    "    prompt=prompt,\n",
    "    max_tokens=100,\n",
    "    temperature=temperature,\n",
    "    num_generations = num_gens,\n",
    "    return_likelihoods='GENERATION')\n",
    "  return response\n",
    "\n",
    "# Define the prompt\n",
    "prompt='Generate a concise product description for: french brie cheese.'\n",
    "\n",
    "# Define the range of temperature values and num_generations\n",
    "temperatures = [x / 10.0 for x in range(0, 50, 10)]\n",
    "num_gens = 3\n",
    "\n",
    "# Iterate generation over the range of temperature values\n",
    "print(f\"Temperature range: {temperatures}\")\n",
    "for temperature in temperatures:\n",
    "  response = generate_text(prompt,temperature,num_gens)\n",
    "  print(\"-\"*10)\n",
    "  print(f'Temperature: {temperature}')\n",
    "  print(\"-\"*10)\n",
    "  for i in range(3):\n",
    "    text = response.generations[i].text\n",
    "    likelihood = response.generations[i].likelihood\n",
    "    print(f'Generation #{i+1}')\n",
    "    print(f'Text: {text}\\n')\n",
    "    print(f'Likelihood: {likelihood}\\n')"
   ]
  },
  {
   "cell_type": "code",
   "execution_count": null,
   "id": "00000fd4-d705-4060-a898-52fa2558bce2",
   "metadata": {},
   "outputs": [],
   "source": []
  }
 ],
 "metadata": {
  "kernelspec": {
   "display_name": "Python (venv)",
   "language": "python",
   "name": "venv"
  },
  "language_info": {
   "codemirror_mode": {
    "name": "ipython",
    "version": 3
   },
   "file_extension": ".py",
   "mimetype": "text/x-python",
   "name": "python",
   "nbconvert_exporter": "python",
   "pygments_lexer": "ipython3",
   "version": "3.10.12"
  }
 },
 "nbformat": 4,
 "nbformat_minor": 5
}
